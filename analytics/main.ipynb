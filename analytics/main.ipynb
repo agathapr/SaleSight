{
 "cells": [
  {
   "cell_type": "code",
   "execution_count": null,
   "metadata": {},
   "outputs": [],
   "source": [
    "# Imports das bibliotecas\n",
    "\n",
    "import pandas as pd\n",
    "import numpy as np\n",
    "from IPython.display import HTML"
   ]
  },
  {
   "cell_type": "code",
   "execution_count": null,
   "metadata": {},
   "outputs": [],
   "source": [
    "# carregando o dataset em um dataframe\n",
    "url = '../data/solicitacoescredito.csv' \n",
    "df = pd.read_csv(url)"
   ]
  },
  {
   "cell_type": "code",
   "execution_count": null,
   "metadata": {},
   "outputs": [],
   "source": [
    "df.head(10)"
   ]
  },
  {
   "cell_type": "code",
   "execution_count": null,
   "metadata": {},
   "outputs": [],
   "source": [
    "df.info()"
   ]
  },
  {
   "cell_type": "code",
   "execution_count": null,
   "metadata": {},
   "outputs": [],
   "source": [
    "df.nunique()"
   ]
  },
  {
   "cell_type": "code",
   "execution_count": null,
   "metadata": {},
   "outputs": [],
   "source": [
    "# Remover linhas com pelo menos um valor nulo\n",
    "df_clean = df.dropna()\n",
    "\n",
    "# Remover linhas apenas se determinadas colunas estiverem com valor nulo\n",
    "# Só precisa especificar as colunas, não consegui rodar ainda aqui do meu VScode\n",
    "df_clean_specific = df.dropna(subset=['A', 'C'])"
   ]
  },
  {
   "cell_type": "code",
   "execution_count": 5,
   "metadata": {},
   "outputs": [],
   "source": [
    "# Header usando HTML/Css, só vai precisar personalizar do nosso jeito\n",
    "\n",
    "header_table = \"\"\"\n",
    "<table style=\"width:100%\">\n",
    "  <tr>\n",
    "    <th>Coluna 1</th>\n",
    "    <th>Coluna 2</th>\n",
    "    <th>Coluna 3</th>\n",
    "  </tr>\n",
    "</table>\n",
    "\"\"\"\n",
    "header_table_css = \"\"\"\n",
    "<style>\n",
    "  table {\n",
    "    width: 100%;\n",
    "    border-collapse: collapse;\n",
    "  }\n",
    "  th {\n",
    "    background-color: #f2f2f2;\n",
    "    border: 1px solid #dddddd;\n",
    "    padding: 8px;\n",
    "    text-align: left;\n",
    "  }\n",
    "</style>\n",
    "<table>\n",
    "  <tr>\n",
    "    <th>Coluna 1</th>\n",
    "    <th>Coluna 2</th>\n",
    "    <th>Coluna 3</th>\n",
    "  </tr>\n",
    "</table>\n",
    "\"\"\"\n",
    "\n",
    "# Vai exibir a tabela, a gente pode testar outras formas tbm, pensei nessa pra fazer bem bonitinha mesmo e filtrar com as colunas que a gente vai usar\n",
    "display(HTML(header_table))\n",
    "\n",
    "# Exibir o cabeçalho formatado em estilo de tabela com CSS, aí nessa a gente personaliza do nosso jeito\n",
    "display(HTML(header_table_css))"
   ]
  }
 ],
 "metadata": {
  "kernelspec": {
   "display_name": "Python 3",
   "language": "python",
   "name": "python3"
  },
  "language_info": {
   "codemirror_mode": {
    "name": "ipython",
    "version": 3
   },
   "file_extension": ".py",
   "mimetype": "text/x-python",
   "name": "python",
   "nbconvert_exporter": "python",
   "pygments_lexer": "ipython3",
   "version": "3.11.2"
  },
  "orig_nbformat": 4
 },
 "nbformat": 4,
 "nbformat_minor": 2
}
